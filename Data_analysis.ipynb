{
 "cells": [
  {
   "cell_type": "markdown",
   "metadata": {},
   "source": [
    "# Notebook für die Datenanalyse des ... Experiments"
   ]
  },
  {
   "cell_type": "code",
   "execution_count": 7,
   "metadata": {},
   "outputs": [],
   "source": [
    "# imports\n",
    "import numpy as np\n",
    "import pandas as pd\n",
    "import psignifit as ps \n",
    "import matplotlib.pyplot as plt\n",
    "import glob\n",
    "\n",
    "participant_id = \"...\" # Name of folder for participant\n",
    "\n",
    "path = \"Data/\" + participant_id + \"/*.csv\" # Path to data for participant\n",
    "\n",
    "#data = pd.read_csv(path) # Read experiment files for participant\n",
    "\n",
    "# data sollte in Form np.array([ [stimulus_level, nCorrect, nTotal] ])"
   ]
  },
  {
   "cell_type": "markdown",
   "metadata": {},
   "source": [
    "Die Daten sollten in Form eines Numpy-Arrays, ala:\n",
    "\n",
    "`data = np.array([[stimulus_level, nCorrect, nTotal], ...])` (Beispiel unten)\n",
    "\n",
    "wobei `stimulus_level` der prozentuale Unterschied in der Distanz der beiden Pfosten, `nCorrect` die Anzahl an korrekten Entscheidungen und `nTotal` die Anzahl an gezeigten Stimuli ist.\n",
    "\n",
    "Darüber hinaus wird ein Dictionary benötigt (`options = dict()`). Dieses sollte folgende Komponenten haben:\n",
    "\n",
    "`options['sigmoidName'] = 'norm'`, `options['expType'] = '2AFC'` (Beispiel unten)\n",
    "\n",
    "wobei `sigmoidName` die Funktionsart festlegt (hier ist `norm` die cumulative Gaussian distribution function), und `expType` die Art des Experimentes aus 2AFC, 2IFC, YesNo, etc. festlegt. Die Resultate werden mit `results = ps.psignifit(data, options)` erstellt und mit `ps.psigniplot.plotPsych(results)` geplottet.\n",
    "\n",
    "#### Beispielhafte Verwendung:"
   ]
  },
  {
   "cell_type": "code",
   "execution_count": 12,
   "metadata": {},
   "outputs": [
    {
     "name": "stdout",
     "output_type": "stream",
     "text": [
      "(array([], dtype=int64),)\n",
      "Results.Fit:  [4.64484725e-03 4.68383735e-03 1.06763396e-07 5.00000000e-01\n",
      " 1.15991375e-04]\n",
      "Results.conf_Intervals:  [[[4.28293676e-03 4.34071476e-03 4.45598997e-03]\n",
      "  [4.96425222e-03 4.90778489e-03 4.79392722e-03]]\n",
      "\n",
      " [[3.53217061e-03 3.71449988e-03 4.08401059e-03]\n",
      "  [6.04090583e-03 5.78088514e-03 5.31350102e-03]]\n",
      "\n",
      " [[1.67813158e-04 3.35626316e-04 1.07400421e-03]\n",
      "  [2.19408856e-02 1.81363503e-02 1.11785985e-02]]\n",
      "\n",
      " [[5.00000000e-01 5.00000000e-01 5.00000000e-01]\n",
      "  [5.00000000e-01 5.00000000e-01 5.00000000e-01]]\n",
      "\n",
      " [[1.29542669e-03 2.59085338e-03 8.29073082e-03]\n",
      "  [1.19572644e-01 1.01631428e-01 6.91191057e-02]]]\n"
     ]
    },
    {
     "data": {
      "image/png": "[encoded data removed]",
      "text/plain": [
       "<Figure size 432x288 with 1 Axes>"
      ]
     },
     "metadata": {
      "needs_background": "light"
     },
     "output_type": "display_data"
    },
    {
     "data": {
      "text/plain": [
       "<AxesSubplot:xlabel='Stimulus Level', ylabel='Proportion Correct'>"
      ]
     },
     "execution_count": 12,
     "metadata": {},
     "output_type": "execute_result"
    }
   ],
   "source": [
    "data = np.array([[0.0010,   45.0000,   90.0000],\n",
    "    [0.0015,   50.0000,   90.0000],\n",
    "    [0.0020,   44.0000,   90.0000],\n",
    "    [0.0025,   44.0000,   90.0000],\n",
    "    [0.0030,   52.0000,   90.0000],\n",
    "    [0.0035,   53.0000,   90.0000],\n",
    "    [0.0040,   62.0000,   90.0000],\n",
    "    [0.0045,   64.0000,   90.0000],\n",
    "    [0.0050,   76.0000,   90.0000],\n",
    "    [0.0060,   79.0000,   90.0000],\n",
    "    [0.0070,   88.0000,   90.0000],\n",
    "    [0.0080,   90.0000,   90.0000],\n",
    "    [0.0100,   90.0000,   90.0000]])\n",
    "\n",
    "options = dict()\n",
    "options['sigmoidName'] = 'norm'\n",
    "options['expType'] = '2AFC'\n",
    "\n",
    "\n",
    "results = ps.psignifit(data, options) # Get results\n",
    "\n",
    "print(f\"Results.Fit: \", results['Fit'])\n",
    "print(f\"Results.conf_Intervals: \", results['conf_Intervals'])\n",
    "\n",
    "ps.psigniplot.plotPsych(results) # Plot results"
   ]
  }
 ],
 "metadata": {
  "interpreter": {
   "hash": "7ede9319239f96562a30c82c2921265c1e556da161c26311993c4aad22c382d1"
  },
  "kernelspec": {
   "display_name": "Python 3.9.13 ('expra')",
   "language": "python",
   "name": "python3"
  },
  "language_info": {
   "codemirror_mode": {
    "name": "ipython",
    "version": 3
   },
   "file_extension": ".py",
   "mimetype": "text/x-python",
   "name": "python",
   "nbconvert_exporter": "python",
   "pygments_lexer": "ipython3",
   "version": "3.9.13"
  },
  "orig_nbformat": 4
 },
 "nbformat": 4,
 "nbformat_minor": 2
}
