{
 "cells": [
  {
   "cell_type": "code",
   "execution_count": 38,
   "metadata": {},
   "outputs": [
    {
     "name": "stdout",
     "output_type": "stream",
     "text": [
      "3\n",
      "(array([], dtype=int64),)\n"
     ]
    },
    {
     "name": "stderr",
     "output_type": "stream",
     "text": [
      "c:\\Users\\Tim-K\\miniconda3\\envs\\expra\\lib\\site-packages\\numpy\\core\\fromnumeric.py:43: VisibleDeprecationWarning: Creating an ndarray from ragged nested sequences (which is a list-or-tuple of lists-or-tuples-or ndarrays with different lengths or shapes) is deprecated. If you meant to do this, you must specify 'dtype=object' when creating the ndarray.\n",
      "  result = getattr(asarray(obj), method)(*args, **kwds)\n"
     ]
    },
    {
     "name": "stdout",
     "output_type": "stream",
     "text": [
      "Results.Fit:  [6.06732071e+00 1.02854588e+00 4.04104591e-08 1.02637500e-01\n",
      " 8.31332953e-05]\n",
      "Results.conf_Intervals:  [[[5.90744953e+00 5.93906453e+00 5.99173763e+00]\n",
      "  [6.15511750e+00 6.13298465e+00 6.09789635e+00]]\n",
      "\n",
      " [[6.47000087e-01 7.13365173e-01 8.58322579e-01]\n",
      "  [1.67298207e+00 1.55758433e+00 1.34757281e+00]]\n",
      "\n",
      " [[5.39554044e-04 1.07910809e-03 3.45314588e-03]\n",
      "  [6.98746298e-02 5.76937489e-02 3.54144449e-02]]\n",
      "\n",
      " [[1.64670085e-02 2.55128004e-02 5.09888717e-02]\n",
      "  [1.96974611e-01 1.80195406e-01 1.46292752e-01]]\n",
      "\n",
      " [[2.90778844e-03 5.81557687e-03 1.90814030e-02]\n",
      "  [2.61621798e-01 2.25648352e-01 1.58801271e-01]]]\n"
     ]
    },
    {
     "data": {
      "image/png": "[encoded data removed]",
      "text/plain": [
       "<Figure size 432x288 with 1 Axes>"
      ]
     },
     "metadata": {
      "needs_background": "light"
     },
     "output_type": "display_data"
    },
    {
     "data": {
      "text/plain": [
       "<AxesSubplot:xlabel='Stimulus Level', ylabel=\"Rate of answer 'further'\">"
      ]
     },
     "execution_count": 38,
     "metadata": {},
     "output_type": "execute_result"
    }
   ],
   "source": [
    "# imports\n",
    "import numpy as np\n",
    "import pandas as pd\n",
    "import psignifit as ps \n",
    "import matplotlib.pyplot as plt\n",
    "import glob\n",
    "from pathlib import Path\n",
    "\n",
    "listOfCSVs = []\n",
    "\n",
    "participant_id = 'Tim' # Name of folder for participant\n",
    "\n",
    "for i in range(100):\n",
    "    path = 'C:/Dropbox/Experiment Data/exp2-tim-psychophysics/' + participant_id + f'_{i:03d}/S001/trial_results.csv'\n",
    "    p = Path(path)\n",
    "    if p.exists():\n",
    "        listOfCSVs.append(pd.read_csv(path))\n",
    "\n",
    "#data_df = pd.read_csv(path) # Read experiment files for participant\n",
    "print(len(listOfCSVs))\n",
    "data_df = pd.concat(listOfCSVs, axis=0, ignore_index=True)\n",
    "\n",
    "target_distances = data_df[\"stimulusDistance\"].unique() # All different stimulus distances \n",
    "\n",
    "reference_distance = data_df[\"referenceDistance\"][0] # Reference distance (either 6 or 3)\n",
    "\n",
    "\n",
    "def getDataAsArray():\n",
    "    data = []\n",
    "\n",
    "    for target in target_distances:\n",
    "        # All rows with target\n",
    "        table1 = data_df.loc[data_df[\"targetDist1\"] == target]\n",
    "        table2 = data_df.loc[data_df[\"targetDist2\"] == target]\n",
    "\n",
    "        nAnswerCloser = 0\n",
    "        nTotal = 0\n",
    "\n",
    "        for i in range(len(table1)):\n",
    "            row = table1.iloc[i]\n",
    "\n",
    "            if row.get([\"answer\"][0]) == \"right\":\n",
    "                nAnswerCloser += 1\n",
    "\n",
    "            nTotal += 1\n",
    "\n",
    "        # Loop through rows with target\n",
    "        for i in range(len(table2)):\n",
    "\n",
    "            # Look at one row\n",
    "            row = table2.iloc[i]\n",
    "\n",
    "            if row.get([\"answer\"][0]) == \"left\":\n",
    "                nAnswerCloser += 1\n",
    "            \n",
    "            nTotal += 1\n",
    "        \n",
    "        data.append([target, nAnswerCloser, nTotal]) # Absolute target values\n",
    "\n",
    "    return np.array(data)\n",
    "data = getDataAsArray()\n",
    "\n",
    "\n",
    "\n",
    "options = dict()\n",
    "options['sigmoidName'] = 'norm'\n",
    "options['expType'] = 'YesNo'\n",
    "\n",
    "\n",
    "results = ps.psignifit(data, options) # Get results\n",
    "\n",
    "print(f\"Results.Fit: \", results['Fit'])\n",
    "print(f\"Results.conf_Intervals: \", results['conf_Intervals'])\n",
    "\n",
    "red = [220./255, 83./255, 0]\n",
    "ps.psigniplot.plotPsych(results, yLabel=\"Rate of answer 'further'\", dataColor=red) # Plot results"
   ]
  }
 ],
 "metadata": {
  "kernelspec": {
   "display_name": "Python 3.9.13 ('expra')",
   "language": "python",
   "name": "python3"
  },
  "language_info": {
   "codemirror_mode": {
    "name": "ipython",
    "version": 3
   },
   "file_extension": ".py",
   "mimetype": "text/x-python",
   "name": "python",
   "nbconvert_exporter": "python",
   "pygments_lexer": "ipython3",
   "version": "3.9.13"
  },
  "orig_nbformat": 4,
  "vscode": {
   "interpreter": {
    "hash": "7ede9319239f96562a30c82c2921265c1e556da161c26311993c4aad22c382d1"
   }
  }
 },
 "nbformat": 4,
 "nbformat_minor": 2
}
