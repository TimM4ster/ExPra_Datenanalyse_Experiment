{
 "cells": [
  {
   "cell_type": "code",
   "execution_count": 73,
   "metadata": {},
   "outputs": [
    {
     "name": "stderr",
     "output_type": "stream",
     "text": [
      "C:\\Users\\Tim-K\\AppData\\Local\\Temp\\ipykernel_13268\\984158220.py:51: FutureWarning: The frame.append method is deprecated and will be removed from pandas in a future version. Use pandas.concat instead.\n",
      "  table = data_df.loc[data_df[\"targetDist1\"] == target].append(data_df.loc[data_df[\"targetDist2\"] == target])\n",
      "C:\\Users\\Tim-K\\AppData\\Local\\Temp\\ipykernel_13268\\984158220.py:51: FutureWarning: The frame.append method is deprecated and will be removed from pandas in a future version. Use pandas.concat instead.\n",
      "  table = data_df.loc[data_df[\"targetDist1\"] == target].append(data_df.loc[data_df[\"targetDist2\"] == target])\n",
      "C:\\Users\\Tim-K\\AppData\\Local\\Temp\\ipykernel_13268\\984158220.py:51: FutureWarning: The frame.append method is deprecated and will be removed from pandas in a future version. Use pandas.concat instead.\n",
      "  table = data_df.loc[data_df[\"targetDist1\"] == target].append(data_df.loc[data_df[\"targetDist2\"] == target])\n",
      "C:\\Users\\Tim-K\\AppData\\Local\\Temp\\ipykernel_13268\\984158220.py:51: FutureWarning: The frame.append method is deprecated and will be removed from pandas in a future version. Use pandas.concat instead.\n",
      "  table = data_df.loc[data_df[\"targetDist1\"] == target].append(data_df.loc[data_df[\"targetDist2\"] == target])\n",
      "C:\\Users\\Tim-K\\AppData\\Local\\Temp\\ipykernel_13268\\984158220.py:51: FutureWarning: The frame.append method is deprecated and will be removed from pandas in a future version. Use pandas.concat instead.\n",
      "  table = data_df.loc[data_df[\"targetDist1\"] == target].append(data_df.loc[data_df[\"targetDist2\"] == target])\n",
      "C:\\Users\\Tim-K\\AppData\\Local\\Temp\\ipykernel_13268\\984158220.py:51: FutureWarning: The frame.append method is deprecated and will be removed from pandas in a future version. Use pandas.concat instead.\n",
      "  table = data_df.loc[data_df[\"targetDist1\"] == target].append(data_df.loc[data_df[\"targetDist2\"] == target])\n"
     ]
    },
    {
     "name": "stdout",
     "output_type": "stream",
     "text": [
      "(array([], dtype=int64),)\n"
     ]
    },
    {
     "name": "stderr",
     "output_type": "stream",
     "text": [
      "c:\\Users\\Tim-K\\miniconda3\\envs\\expra\\lib\\site-packages\\numpy\\core\\fromnumeric.py:43: VisibleDeprecationWarning: Creating an ndarray from ragged nested sequences (which is a list-or-tuple of lists-or-tuples-or ndarrays with different lengths or shapes) is deprecated. If you meant to do this, you must specify 'dtype=object' when creating the ndarray.\n",
      "  result = getattr(asarray(obj), method)(*args, **kwds)\n"
     ]
    },
    {
     "name": "stdout",
     "output_type": "stream",
     "text": [
      "Results.Fit:  [4.89821042e+00 3.28313264e+00 8.36696280e-09 5.00000000e-01\n",
      " 4.48971574e-08]\n",
      "Results.conf_Intervals:  [[[4.28828395e+00 4.36059851e+00 4.53106137e+00]\n",
      "  [5.48917677e+00 5.35604171e+00 5.12079052e+00]]\n",
      "\n",
      " [[6.17978820e-01 8.59163886e-01 1.66673891e+00]\n",
      "  [4.78316767e+00 4.50246020e+00 3.86575072e+00]]\n",
      "\n",
      " [[1.42049700e-03 2.84099399e-03 9.11876560e-03]\n",
      "  [1.16249521e-01 9.99130181e-02 6.92640979e-02]]\n",
      "\n",
      " [[5.00000000e-01 5.00000000e-01 5.00000000e-01]\n",
      "  [5.00000000e-01 5.00000000e-01 5.00000000e-01]]\n",
      "\n",
      " [[4.75783079e-03 9.51566159e-03 3.39694255e-02]\n",
      "  [4.07080434e-01 3.62803854e-01 2.70446261e-01]]]\n"
     ]
    },
    {
     "data": {
      "image/png": "[encoded data removed]",
      "text/plain": [
       "<Figure size 432x288 with 1 Axes>"
      ]
     },
     "metadata": {
      "needs_background": "light"
     },
     "output_type": "display_data"
    },
    {
     "data": {
      "text/plain": [
       "<AxesSubplot:xlabel='Stimulus Level', ylabel='Proportion Correct'>"
      ]
     },
     "execution_count": 73,
     "metadata": {},
     "output_type": "execute_result"
    }
   ],
   "source": [
    "# imports\n",
    "import numpy as np\n",
    "import pandas as pd\n",
    "import psignifit as ps \n",
    "import matplotlib.pyplot as plt\n",
    "import glob\n",
    "\n",
    "participant_id = \"Tim_001\" # Name of folder for participant\n",
    "\n",
    "path = \"C:/Dropbox/Experiment Data/exp2-tim-psychophysics/\" + participant_id + \"/S001/trial_results.csv\" # Path to data for participant\n",
    "\n",
    "data_df = pd.read_csv(path) # Read experiment files for participant\n",
    "\n",
    "stimulus_distances = data_df[\"stimulusDistance\"].unique() # All different stimulus distances (including reference distance)\n",
    "\n",
    "reference_distance = data_df[\"referenceDistance\"][0] # Reference distance (either 6 or 3)\n",
    "\n",
    "target_distances = np.delete(stimulus_distances, np.where(stimulus_distances == reference_distance)) # All different stimulus distances (excluding reference distance)\n",
    "\n",
    "\n",
    "\n",
    "row1 = data_df.loc[data_df[\"targetDist1\"] == 6.5]\n",
    "\n",
    "correct_answer = 0\n",
    "\n",
    "current_row = row1.iloc[3]\n",
    "\n",
    "if current_row.get([\"targetDist1\"][0]) > current_row.get([\"targetDist2\"][0]):\n",
    "    correct_answer = 1\n",
    "\n",
    "#print(correct_answer)\n",
    "\n",
    "participant_answer = 0\n",
    "\n",
    "if current_row.get([\"answer\"][0]) == \"right\":\n",
    "    participant_answer = 1\n",
    "\n",
    "#print(participant_answer)\n",
    "\n",
    "#print(row1.iloc[0])\n",
    "#print(current_row.get([\"answer\"][0]))\n",
    "\n",
    "\n",
    "# data sollte in Form np.array([ [stimulus_level, nCorrect, nTotal] ])\n",
    "\n",
    "\n",
    "def getDataAsArray():\n",
    "    data = []\n",
    "\n",
    "    for target in target_distances:\n",
    "        table = data_df.loc[data_df[\"targetDist1\"] == target].append(data_df.loc[data_df[\"targetDist2\"] == target])\n",
    "\n",
    "        nCorrect = 0\n",
    "        nTotal = 0\n",
    "\n",
    "        for i in range(len(table)):\n",
    "            row = table.iloc[i]\n",
    "            if row.get([\"targetDist1\"][0]) < row.get([\"targetDist2\"][0]):\n",
    "                correct_answer = 0\n",
    "            else:\n",
    "                correct_answer = 1\n",
    "            if row.get([\"answer\"][0]) == \"left\":\n",
    "                participant_answer = 0\n",
    "            else:\n",
    "                participant_answer = 1\n",
    "\n",
    "            if correct_answer == participant_answer:\n",
    "                nCorrect += 1\n",
    "            \n",
    "            nTotal += 1\n",
    "        \n",
    "        data.append([target, nCorrect, nTotal])\n",
    "\n",
    "    return np.array(data)\n",
    "data = getDataAsArray()\n",
    "\n",
    "\n",
    "\n",
    "options = dict()\n",
    "options['sigmoidName'] = 'norm'\n",
    "options['expType'] = '2AFC'\n",
    "\n",
    "\n",
    "results = ps.psignifit(data, options) # Get results\n",
    "\n",
    "print(f\"Results.Fit: \", results['Fit'])\n",
    "print(f\"Results.conf_Intervals: \", results['conf_Intervals'])\n",
    "\n",
    "ps.psigniplot.plotPsych(results) # Plot results\n"
   ]
  }
 ],
 "metadata": {
  "language_info": {
   "name": "python"
  },
  "orig_nbformat": 4
 },
 "nbformat": 4,
 "nbformat_minor": 2
}
