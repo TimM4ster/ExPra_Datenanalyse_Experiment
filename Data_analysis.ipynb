{
 "cells": [
  {
   "cell_type": "code",
   "execution_count": 24,
   "metadata": {},
   "outputs": [
    {
     "name": "stdout",
     "output_type": "stream",
     "text": [
      "(array([], dtype=int64),)\n"
     ]
    },
    {
     "name": "stderr",
     "output_type": "stream",
     "text": [
      "c:\\Users\\Tim-K\\miniconda3\\envs\\expra\\lib\\site-packages\\psignifit-0.1-py3.9.egg\\psignifit\\likelihood.py:191: RuntimeWarning: divide by zero encountered in log\n",
      "  pbin = pbin  + (ni-ki)*np.log(1-psi)\n",
      "c:\\Users\\Tim-K\\miniconda3\\envs\\expra\\lib\\site-packages\\numpy\\core\\fromnumeric.py:43: VisibleDeprecationWarning: Creating an ndarray from ragged nested sequences (which is a list-or-tuple of lists-or-tuples-or ndarrays with different lengths or shapes) is deprecated. If you meant to do this, you must specify 'dtype=object' when creating the ndarray.\n",
      "  result = getattr(asarray(obj), method)(*args, **kwds)\n"
     ]
    },
    {
     "name": "stdout",
     "output_type": "stream",
     "text": [
      "Results.Fit:  [6.07296748e+00 1.06071079e+00 2.47360973e-06 9.88161567e-02\n",
      " 2.27904915e-08]\n",
      "Results.conf_Intervals:  [[[5.76464466e+00 5.82675545e+00 5.93284444e+00]\n",
      "  [6.21422539e+00 6.17966023e+00 6.12084730e+00]]\n",
      "\n",
      " [[5.14788961e-01 6.06188027e-01 8.31138376e-01]\n",
      "  [2.20665332e+00 2.00341305e+00 1.65010550e+00]]\n",
      "\n",
      " [[7.81076178e-04 1.56215236e-03 4.99888754e-03]\n",
      "  [1.00529489e-01 8.22670928e-02 5.20142760e-02]]\n",
      "\n",
      " [[8.34403525e-03 1.53590249e-02 3.82507329e-02]\n",
      "  [2.23395264e-01 2.00700408e-01 1.55565835e-01]]\n",
      "\n",
      " [[3.95602871e-03 7.91205743e-03 2.73883314e-02]\n",
      "  [3.64636661e-01 3.19100820e-01 2.32033111e-01]]]\n"
     ]
    },
    {
     "data": {
      "image/png": "[encoded data removed]",
      "text/plain": [
       "<Figure size 432x288 with 1 Axes>"
      ]
     },
     "metadata": {
      "needs_background": "light"
     },
     "output_type": "display_data"
    },
    {
     "data": {
      "text/plain": [
       "<AxesSubplot:xlabel='Stimulus Level', ylabel=\"Rate of answer 'further'\">"
      ]
     },
     "execution_count": 24,
     "metadata": {},
     "output_type": "execute_result"
    }
   ],
   "source": [
    "# imports\n",
    "import numpy as np\n",
    "import pandas as pd\n",
    "import psignifit as ps \n",
    "import matplotlib.pyplot as plt\n",
    "import glob\n",
    "\n",
    "participant_id = \"Tim_001\" # Name of folder for participant\n",
    "\n",
    "path = \"C:/Dropbox/Experiment Data/exp2-tim-psychophysics/\" + participant_id + \"/S001/trial_results.csv\" # Path to data for participant\n",
    "\n",
    "data_df = pd.read_csv(path) # Read experiment files for participant\n",
    "\n",
    "target_distances = data_df[\"stimulusDistance\"].unique() # All different stimulus distances \n",
    "\n",
    "reference_distance = data_df[\"referenceDistance\"][0] # Reference distance (either 6 or 3)\n",
    "\n",
    "\n",
    "row1 = data_df.loc[data_df[\"targetDist1\"] == 6.5]\n",
    "\n",
    "correct_answer = 0\n",
    "\n",
    "current_row = row1.iloc[3]\n",
    "\n",
    "if current_row.get([\"targetDist1\"][0]) > current_row.get([\"targetDist2\"][0]):\n",
    "    correct_answer = 1\n",
    "\n",
    "#print(correct_answer)\n",
    "\n",
    "participant_answer = 0\n",
    "\n",
    "if current_row.get([\"answer\"][0]) == \"right\":\n",
    "    participant_answer = 1\n",
    "\n",
    "#print(participant_answer)\n",
    "\n",
    "#print(row1.iloc[0])\n",
    "#print(current_row.get([\"answer\"][0]))\n",
    "\n",
    "\n",
    "# data sollte in Form np.array([ [stimulus_level, nCorrect, nTotal] ])\n",
    "\n",
    "\n",
    "# TODO: Wie häufig sagt die Versuchsperson, dass ein Wert weiter weg / näher dran ist als die reference value? \n",
    "# Answer == position\n",
    "\n",
    "\n",
    "def getDataAsArray():\n",
    "    data = []\n",
    "\n",
    "    for target in target_distances:\n",
    "        # All rows with target\n",
    "        #table = data_df.loc[data_df[\"targetDist1\"] == target].append(data_df.loc[data_df[\"targetDist2\"] == target])\n",
    "        table1 = data_df.loc[data_df[\"targetDist1\"] == target]\n",
    "        table2 = data_df.loc[data_df[\"targetDist2\"] == target]\n",
    "\n",
    "        nAnswerCloser = 0\n",
    "        nTotal = 0\n",
    "\n",
    "        for i in range(len(table1)):\n",
    "            row = table1.iloc[i]\n",
    "\n",
    "            if row.get([\"answer\"][0]) == \"right\":\n",
    "                nAnswerCloser += 1\n",
    "\n",
    "            nTotal += 1\n",
    "\n",
    "        # Loop through rows with target\n",
    "        for i in range(len(table2)):\n",
    "\n",
    "            # Look at one row\n",
    "            row = table2.iloc[i]\n",
    "\n",
    "            if row.get([\"answer\"][0]) == \"left\":\n",
    "                nAnswerCloser += 1\n",
    "            \n",
    "            nTotal += 1\n",
    "        \n",
    "        data.append([target, nAnswerCloser, nTotal]) # Absolute target values\n",
    "\n",
    "    return np.array(data)\n",
    "data = getDataAsArray()\n",
    "\n",
    "\n",
    "\n",
    "options = dict()\n",
    "options['sigmoidName'] = 'norm'\n",
    "options['expType'] = 'YesNo'\n",
    "\n",
    "\n",
    "results = ps.psignifit(data, options) # Get results\n",
    "\n",
    "print(f\"Results.Fit: \", results['Fit'])\n",
    "print(f\"Results.conf_Intervals: \", results['conf_Intervals'])\n",
    "\n",
    "red = [220./255, 83./255, 0]\n",
    "ps.psigniplot.plotPsych(results, yLabel=\"Rate of answer 'further'\", dataColor=red) # Plot results"
   ]
  }
 ],
 "metadata": {
  "kernelspec": {
   "display_name": "Python 3.9.13 ('expra')",
   "language": "python",
   "name": "python3"
  },
  "language_info": {
   "codemirror_mode": {
    "name": "ipython",
    "version": 3
   },
   "file_extension": ".py",
   "mimetype": "text/x-python",
   "name": "python",
   "nbconvert_exporter": "python",
   "pygments_lexer": "ipython3",
   "version": "3.9.13"
  },
  "orig_nbformat": 4,
  "vscode": {
   "interpreter": {
    "hash": "7ede9319239f96562a30c82c2921265c1e556da161c26311993c4aad22c382d1"
   }
  }
 },
 "nbformat": 4,
 "nbformat_minor": 2
}
